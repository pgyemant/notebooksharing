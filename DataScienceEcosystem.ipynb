{
 "cells": [
  {
   "cell_type": "markdown",
   "id": "02ec0d0f-40e8-4327-b218-ac4298b13b1c",
   "metadata": {},
   "source": [
    "# Data Science Tools and Ecosystem"
   ]
  },
  {
   "cell_type": "markdown",
   "id": "2f8cc19d-0308-40b3-9c0f-14f456ed4456",
   "metadata": {},
   "source": [
    "In this notebook, Data Science Tools and Ecosystem are summarized."
   ]
  },
  {
   "cell_type": "markdown",
   "id": "c044fd41-ffd7-4832-9656-86dfd47341b3",
   "metadata": {},
   "source": [
    "1. Phyton\n",
    "2. C++\n",
    "3. R"
   ]
  },
  {
   "cell_type": "markdown",
   "id": "deafd533-8939-4b0d-8589-9d8fa9d2a5a0",
   "metadata": {},
   "source": [
    "1. TensorFlow\n",
    "2. Pandas\n",
    "3. PyTorch\n",
    "4. Caffe2"
   ]
  },
  {
   "cell_type": "markdown",
   "id": "4ff2681a-0266-4848-9e72-e7ef63dc791c",
   "metadata": {},
   "source": [
    "|Data Science Tools|\n",
    "|------|\n",
    "|Jupyter Notebooks|\n",
    "|R Studio|\n",
    "|TensorFlow|"
   ]
  },
  {
   "cell_type": "markdown",
   "id": "90daecd2-29d2-4ddc-8996-c743eb012d8a",
   "metadata": {},
   "source": [
    "### Below are a few examples of evaluating arithmetic expressions in Python"
   ]
  },
  {
   "cell_type": "code",
   "execution_count": 3,
   "id": "d3b69403-50b8-4018-b06c-84492ad526d2",
   "metadata": {},
   "outputs": [
    {
     "data": {
      "text/plain": [
       "17"
      ]
     },
     "execution_count": 3,
     "metadata": {},
     "output_type": "execute_result"
    }
   ],
   "source": [
    "# This a simple arithmetic expression to mutiply then add integers\n",
    "(3*4)+5"
   ]
  },
  {
   "cell_type": "code",
   "execution_count": 10,
   "id": "5e4c286a-b59d-4c46-96ce-ed77a3f34302",
   "metadata": {},
   "outputs": [
    {
     "data": {
      "text/plain": [
       "3.3333333333333335"
      ]
     },
     "execution_count": 10,
     "metadata": {},
     "output_type": "execute_result"
    }
   ],
   "source": [
    "# This will convert 200 minutes to hours by diving by 60\n",
    "200/60"
   ]
  },
  {
   "cell_type": "markdown",
   "id": "86b15b66-b21b-41dc-ba15-988701bce6eb",
   "metadata": {},
   "source": [
    "**Objectives**\n",
    "- Getting familiar with Jupyter Notebook\n",
    "- Creating markdown cells\n",
    "- Creating code cells\n",
    "- Listing Data Science tools and languages\n",
    "- Taking screenshots"
   ]
  },
  {
   "cell_type": "markdown",
   "id": "ee98d7fc-baa8-44cb-9a56-ba8949658088",
   "metadata": {},
   "source": [
    "## Author\n",
    "Péter Gyémánt"
   ]
  },
  {
   "cell_type": "code",
   "execution_count": null,
   "id": "63aecf9a-8763-46c7-8bec-e529b87e67cc",
   "metadata": {},
   "outputs": [],
   "source": []
  }
 ],
 "metadata": {
  "kernelspec": {
   "display_name": "Python",
   "language": "python",
   "name": "conda-env-python-py"
  },
  "language_info": {
   "codemirror_mode": {
    "name": "ipython",
    "version": 3
   },
   "file_extension": ".py",
   "mimetype": "text/x-python",
   "name": "python",
   "nbconvert_exporter": "python",
   "pygments_lexer": "ipython3",
   "version": "3.7.12"
  }
 },
 "nbformat": 4,
 "nbformat_minor": 5
}
